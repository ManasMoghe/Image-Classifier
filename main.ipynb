{
 "cells": [
  {
   "cell_type": "code",
   "execution_count": 30,
   "id": "06d94813",
   "metadata": {},
   "outputs": [],
   "source": [
    "import numpy as np\n",
    "import os\n",
    "import cv2\n",
    "\n",
    "DATADIR = \"Pet_Image\"\n",
    "CATEGORIES = [\"Cat\", \"Dog\"]\n",
    "IMG_SIZE = 100\n",
    "\n",
    "training_data = []\n",
    "\n",
    "for category in CATEGORIES:\n",
    "    path = os.path.join(DATADIR, category)\n",
    "    label = CATEGORIES.index(category)\n",
    "    for img in os.listdir(path):\n",
    "        try:\n",
    "            img_array = cv2.imread(os.path.join(path, img), cv2.IMREAD_GRAYSCALE)\n",
    "            resized_array = cv2.resize(img_array, (IMG_SIZE, IMG_SIZE))\n",
    "            training_data.append([resized_array, label])\n",
    "        except Exception as e:\n",
    "            pass"
   ]
  },
  {
   "cell_type": "code",
   "execution_count": 31,
   "id": "2b8e9501",
   "metadata": {},
   "outputs": [],
   "source": [
    "import random\n",
    "\n",
    "random.shuffle(training_data)"
   ]
  },
  {
   "cell_type": "code",
   "execution_count": 32,
   "id": "8ffbb685",
   "metadata": {},
   "outputs": [],
   "source": [
    "x = []\n",
    "y = []"
   ]
  },
  {
   "cell_type": "code",
   "execution_count": 33,
   "id": "3070ab80",
   "metadata": {},
   "outputs": [],
   "source": [
    "for features, label in training_data:\n",
    "    x.append(features)\n",
    "    y.append(label)          "
   ]
  },
  {
   "cell_type": "code",
   "execution_count": 34,
   "id": "94fcd84c",
   "metadata": {},
   "outputs": [],
   "source": [
    "x = np.array(x).reshape(-1, IMG_SIZE, IMG_SIZE, 1)\n",
    "y = np.array(y)"
   ]
  },
  {
   "cell_type": "code",
   "execution_count": 35,
   "id": "880bcbd9",
   "metadata": {},
   "outputs": [],
   "source": [
    "import pickle\n",
    "\n",
    "with open(\"x.pickle\", \"wb\") as f:\n",
    "    pickle.dump(x, f)\n",
    "\n",
    "with open(\"y.pickle\", \"wb\") as f:\n",
    "    pickle.dump(y, f)"
   ]
  },
  {
   "cell_type": "code",
   "execution_count": 36,
   "id": "11ff5dc1",
   "metadata": {},
   "outputs": [
    {
     "name": "stdout",
     "output_type": "stream",
     "text": [
      "Data preprocessing complete. Saved x.pickle and y.pickle.\n"
     ]
    }
   ],
   "source": [
    "\n",
    "print(\"Data preprocessing complete. Saved x.pickle and y.pickle.\")"
   ]
  }
 ],
 "metadata": {
  "kernelspec": {
   "display_name": "Python 3",
   "language": "python",
   "name": "python3"
  },
  "language_info": {
   "codemirror_mode": {
    "name": "ipython",
    "version": 3
   },
   "file_extension": ".py",
   "mimetype": "text/x-python",
   "name": "python",
   "nbconvert_exporter": "python",
   "pygments_lexer": "ipython3",
   "version": "3.11.3"
  }
 },
 "nbformat": 4,
 "nbformat_minor": 5
}
